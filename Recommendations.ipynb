{
 "cells": [
  {
   "cell_type": "markdown",
   "metadata": {},
   "source": [
    "# Recommendation Engine Project\n",
    "\n",
    "## Overview\n",
    "\n",
    "This recommendation engine project is designed to provide personalized recommendations intermittently based on two different approaches: a statistical approach inspired by IMDB's weighted rating formula and Singular Value Decomposition (SVD) using the Surprise framework.\n",
    "\n",
    "## Project Components\n",
    "\n",
    "### 1. Statistical Approach (IMDB Formula)\n",
    "\n",
    "#### Overview\n",
    "- This method mirrors IMDB's way of rating movies to find the best-rated products.\n",
    "\n",
    "#### Workflow\n",
    "- Create a metric to score or rate the products.\n",
    "- Calculate the score for every product using the IMDB's weighted rating formula.\n",
    "- Sort the scores and recommend the top-rated products.\n",
    "\n",
    "### 2. Machine Learning Approach (SVD)\n",
    "\n",
    "#### Overview\n",
    "- This approach utilizes Singular Value Decomposition (SVD) provided by the Surprise framework.\n",
    "- SVD is a matrix factorization technique that decomposes the user-item interaction matrix into user and item latent factors.\n",
    "\n",
    "#### Workflow\n",
    "- Use the Surprise framework to load the dataset and define the rating scale.\n",
    "- Apply SVD to factorize the user-item matrix and learn latent factors.\n",
    "- Train the model using the factorized matrix.\n",
    "- Make intermittent predictions based on the trained model.\n",
    "\n",
    "## Deployment Strategy\n",
    "\n",
    "The recommendation engine is designed to work intermittently, providing recommendations at specific intervals or in response to certain events. This approach helps manage computational resources efficiently and aligns with the periodic nature of recommendation updates.\n",
    "\n",
    "## Conclusion\n",
    "\n",
    "By combining a statistical approach inspired by IMDB's weighted rating formula with the advanced matrix factorization technique of Singular Value Decomposition (SVD), this recommendation engine project aims to deliver accurate and diverse recommendations for users in an intermittent operational mode.\n"
   ]
  },
  {
   "cell_type": "markdown",
   "metadata": {},
   "source": [
    "# Step #1 : import necessary framworks/libraries"
   ]
  },
  {
   "cell_type": "code",
   "execution_count": 1,
   "metadata": {},
   "outputs": [],
   "source": [
    "import pandas as pd\n",
    "import numpy as np\n",
    "import matplotlib.pyplot as plt\n",
    "import pickle\n",
    "from scipy import sparse\n",
    "import datetime\n",
    "import surprise\n",
    "from surprise.model_selection import GridSearchCV\n",
    "from surprise import Dataset\n",
    "from surprise import accuracy\n",
    "from surprise import Reader\n",
    "import operator\n",
    "from surprise.model_selection import train_test_split\n",
    "%matplotlib inline\n",
    "from surprise import SVD, Reader, Dataset \n",
    "from sklearn.model_selection import train_test_split as sk_train_test_split\n",
    "from sklearn.metrics import classification_report\n",
    "from collections import defaultdict\n",
    "from surprise.model_selection import cross_validate\n",
    "from surprise import KNNBasic, SVD, NormalPredictor, KNNBaseline,KNNWithMeans, KNNWithZScore, BaselineOnly, CoClustering, Reader, dataset, accuracy,dump\n",
    "import random\n",
    "\n",
    "my_seed = 0\n",
    "random.seed(my_seed)\n",
    "np.random.seed(my_seed)\n",
    "\n",
    "# from surprise.prediction_algorithms.algo_base import precision_at_k\n",
    "%matplotlib inline\n"
   ]
  },
  {
   "cell_type": "markdown",
   "metadata": {},
   "source": [
    "# Step #2: Load and explore the data: "
   ]
  },
  {
   "cell_type": "code",
   "execution_count": 2,
   "metadata": {},
   "outputs": [
    {
     "data": {
      "text/html": [
       "<div>\n",
       "<style scoped>\n",
       "    .dataframe tbody tr th:only-of-type {\n",
       "        vertical-align: middle;\n",
       "    }\n",
       "\n",
       "    .dataframe tbody tr th {\n",
       "        vertical-align: top;\n",
       "    }\n",
       "\n",
       "    .dataframe thead th {\n",
       "        text-align: right;\n",
       "    }\n",
       "</style>\n",
       "<table border=\"1\" class=\"dataframe\">\n",
       "  <thead>\n",
       "    <tr style=\"text-align: right;\">\n",
       "      <th></th>\n",
       "      <th>userId</th>\n",
       "      <th>productId</th>\n",
       "      <th>rating</th>\n",
       "    </tr>\n",
       "  </thead>\n",
       "  <tbody>\n",
       "    <tr>\n",
       "      <th>0</th>\n",
       "      <td>AKM1MP6P0OYPR</td>\n",
       "      <td>0132793040</td>\n",
       "      <td>5.0</td>\n",
       "    </tr>\n",
       "    <tr>\n",
       "      <th>1</th>\n",
       "      <td>A2CX7LUOHB2NDG</td>\n",
       "      <td>0321732944</td>\n",
       "      <td>5.0</td>\n",
       "    </tr>\n",
       "    <tr>\n",
       "      <th>2</th>\n",
       "      <td>A2NWSAGRHCP8N5</td>\n",
       "      <td>0439886341</td>\n",
       "      <td>1.0</td>\n",
       "    </tr>\n",
       "    <tr>\n",
       "      <th>3</th>\n",
       "      <td>A2WNBOD3WNDNKT</td>\n",
       "      <td>0439886341</td>\n",
       "      <td>3.0</td>\n",
       "    </tr>\n",
       "    <tr>\n",
       "      <th>4</th>\n",
       "      <td>A1GI0U4ZRJA8WN</td>\n",
       "      <td>0439886341</td>\n",
       "      <td>1.0</td>\n",
       "    </tr>\n",
       "  </tbody>\n",
       "</table>\n",
       "</div>"
      ],
      "text/plain": [
       "           userId   productId  rating\n",
       "0   AKM1MP6P0OYPR  0132793040     5.0\n",
       "1  A2CX7LUOHB2NDG  0321732944     5.0\n",
       "2  A2NWSAGRHCP8N5  0439886341     1.0\n",
       "3  A2WNBOD3WNDNKT  0439886341     3.0\n",
       "4  A1GI0U4ZRJA8WN  0439886341     1.0"
      ]
     },
     "execution_count": 2,
     "metadata": {},
     "output_type": "execute_result"
    }
   ],
   "source": [
    "df = pd.read_csv('data.csv', names=['userId', 'productId', 'rating', 'timestamp']).drop(columns='timestamp')\n",
    "# Show df to get an idea of the data\n",
    "df.head()"
   ]
  },
  {
   "cell_type": "markdown",
   "metadata": {},
   "source": [
    "Check Null values"
   ]
  },
  {
   "cell_type": "code",
   "execution_count": 3,
   "metadata": {},
   "outputs": [
    {
     "name": "stdout",
     "output_type": "stream",
     "text": [
      "Empty DataFrame\n",
      "Columns: [userId, productId, rating]\n",
      "Index: []\n"
     ]
    }
   ],
   "source": [
    "print(df[df.duplicated(['userId', 'productId'], keep=False)])"
   ]
  },
  {
   "cell_type": "code",
   "execution_count": 4,
   "metadata": {},
   "outputs": [
    {
     "data": {
      "text/plain": [
       "userId       0\n",
       "productId    0\n",
       "rating       0\n",
       "dtype: int64"
      ]
     },
     "execution_count": 4,
     "metadata": {},
     "output_type": "execute_result"
    }
   ],
   "source": [
    "df.isnull().sum()"
   ]
  },
  {
   "cell_type": "markdown",
   "metadata": {},
   "source": [
    "we can see that our data has no null values"
   ]
  },
  {
   "cell_type": "markdown",
   "metadata": {},
   "source": [
    "Now lets explore the user and product columns"
   ]
  },
  {
   "cell_type": "code",
   "execution_count": 5,
   "metadata": {},
   "outputs": [
    {
     "name": "stdout",
     "output_type": "stream",
     "text": [
      "Number of unique users: 4201696\n",
      "Number of unique products: 476002\n"
     ]
    }
   ],
   "source": [
    "print('Number of unique users:',df['userId'].nunique(dropna=False))\n",
    "print('Number of unique products:',df['productId'].nunique(dropna=False))\n"
   ]
  },
  {
   "cell_type": "markdown",
   "metadata": {},
   "source": [
    "Now lets explore the products ratings"
   ]
  },
  {
   "cell_type": "code",
   "execution_count": 6,
   "metadata": {},
   "outputs": [
    {
     "data": {
      "text/html": [
       "<div>\n",
       "<style scoped>\n",
       "    .dataframe tbody tr th:only-of-type {\n",
       "        vertical-align: middle;\n",
       "    }\n",
       "\n",
       "    .dataframe tbody tr th {\n",
       "        vertical-align: top;\n",
       "    }\n",
       "\n",
       "    .dataframe thead th {\n",
       "        text-align: right;\n",
       "    }\n",
       "</style>\n",
       "<table border=\"1\" class=\"dataframe\">\n",
       "  <thead>\n",
       "    <tr style=\"text-align: right;\">\n",
       "      <th></th>\n",
       "      <th>rating</th>\n",
       "    </tr>\n",
       "  </thead>\n",
       "  <tbody>\n",
       "    <tr>\n",
       "      <th>count</th>\n",
       "      <td>7.824482e+06</td>\n",
       "    </tr>\n",
       "    <tr>\n",
       "      <th>mean</th>\n",
       "      <td>4.012337e+00</td>\n",
       "    </tr>\n",
       "    <tr>\n",
       "      <th>std</th>\n",
       "      <td>1.380910e+00</td>\n",
       "    </tr>\n",
       "    <tr>\n",
       "      <th>min</th>\n",
       "      <td>1.000000e+00</td>\n",
       "    </tr>\n",
       "    <tr>\n",
       "      <th>25%</th>\n",
       "      <td>3.000000e+00</td>\n",
       "    </tr>\n",
       "    <tr>\n",
       "      <th>50%</th>\n",
       "      <td>5.000000e+00</td>\n",
       "    </tr>\n",
       "    <tr>\n",
       "      <th>75%</th>\n",
       "      <td>5.000000e+00</td>\n",
       "    </tr>\n",
       "    <tr>\n",
       "      <th>max</th>\n",
       "      <td>5.000000e+00</td>\n",
       "    </tr>\n",
       "  </tbody>\n",
       "</table>\n",
       "</div>"
      ],
      "text/plain": [
       "             rating\n",
       "count  7.824482e+06\n",
       "mean   4.012337e+00\n",
       "std    1.380910e+00\n",
       "min    1.000000e+00\n",
       "25%    3.000000e+00\n",
       "50%    5.000000e+00\n",
       "75%    5.000000e+00\n",
       "max    5.000000e+00"
      ]
     },
     "execution_count": 6,
     "metadata": {},
     "output_type": "execute_result"
    }
   ],
   "source": [
    "df.describe()"
   ]
  },
  {
   "cell_type": "code",
   "execution_count": 7,
   "metadata": {},
   "outputs": [
    {
     "data": {
      "text/plain": [
       "rating\n",
       "5.0    4347541\n",
       "4.0    1485781\n",
       "1.0     901765\n",
       "3.0     633073\n",
       "2.0     456322\n",
       "Name: count, dtype: int64"
      ]
     },
     "execution_count": 7,
     "metadata": {},
     "output_type": "execute_result"
    }
   ],
   "source": [
    "df['rating'].value_counts()"
   ]
  },
  {
   "cell_type": "code",
   "execution_count": 8,
   "metadata": {},
   "outputs": [
    {
     "data": {
      "text/plain": [
       "<Axes: >"
      ]
     },
     "execution_count": 8,
     "metadata": {},
     "output_type": "execute_result"
    },
    {
     "data": {
      "image/png": "[encoded data removed]",
      "text/plain": [
       "<Figure size 640x480 with 1 Axes>"
      ]
     },
     "metadata": {},
     "output_type": "display_data"
    }
   ],
   "source": [
    "df['rating'].hist()"
   ]
  },
  {
   "cell_type": "markdown",
   "metadata": {},
   "source": [
    "We can see that most of our products has a rating within 4-5/5 , which is a good thing "
   ]
  },
  {
   "cell_type": "markdown",
   "metadata": {},
   "source": [
    "Now lets explore our top-10 products in sales"
   ]
  },
  {
   "cell_type": "code",
   "execution_count": 9,
   "metadata": {},
   "outputs": [
    {
     "data": {
      "text/plain": [
       "<Axes: xlabel='productId'>"
      ]
     },
     "execution_count": 9,
     "metadata": {},
     "output_type": "execute_result"
    },
    {
     "data": {
      "image/png": "[encoded data removed]",
      "text/plain": [
       "<Figure size 640x480 with 1 Axes>"
      ]
     },
     "metadata": {},
     "output_type": "display_data"
    }
   ],
   "source": [
    "#top 10 products based on sales: \n",
    "df['productId'].value_counts()[0:10].plot(kind = \"bar\", color='g')"
   ]
  },
  {
   "cell_type": "markdown",
   "metadata": {},
   "source": [
    "# Step #3 : Build a recommendation engine / algorithm "
   ]
  },
  {
   "cell_type": "markdown",
   "metadata": {},
   "source": [
    "## 1. Statistical Approach (IMDB Formula)\n",
    "## Popularity/Rank-Based Recommendations\n",
    "\n",
    "Implementing Popularity-Based Filtering is a straightforward process. We simply need to organize our products based on their ratings and present the top-rated items from our list. To achieve this, we should:\n",
    "\n",
    "1. Establish a metric for scoring or rating the products.\n",
    "2. Compute the score for each product.\n",
    "3. Arrange the scores and suggest the highest-rated product to users.\n",
    "\n",
    "While using the average ratings of products as the score is an option, it may not be entirely fair. For instance, a product with a 5-average rating and only 3 votes shouldn't be considered superior to a product with a 4-average rating but 40 votes. To address this, we adopt IMDB's weighted rating formula:\n",
    "\n",
    "Weighted Rating (WR) = $(\\frac{v}{v + m} . R) + (\\frac{m}{v + m} . C)$ \n",
    "\n",
    "where:\n",
    "\n",
    "- \\( v \\) is the number of votes for the product.\n",
    "- \\( m \\) is the minimum votes required for chart inclusion.\n",
    "- \\( R \\) is the average rating of the product.\n",
    "- \\( C \\) is the mean vote across the entire dataset."
   ]
  },
  {
   "cell_type": "markdown",
   "metadata": {},
   "source": [
    "Now lets prepare the data for this approach, by calculating the number of ratings and average rating for each product: "
   ]
  },
  {
   "cell_type": "code",
   "execution_count": 10,
   "metadata": {},
   "outputs": [
    {
     "data": {
      "text/html": [
       "<div>\n",
       "<style scoped>\n",
       "    .dataframe tbody tr th:only-of-type {\n",
       "        vertical-align: middle;\n",
       "    }\n",
       "\n",
       "    .dataframe tbody tr th {\n",
       "        vertical-align: top;\n",
       "    }\n",
       "\n",
       "    .dataframe thead th {\n",
       "        text-align: right;\n",
       "    }\n",
       "</style>\n",
       "<table border=\"1\" class=\"dataframe\">\n",
       "  <thead>\n",
       "    <tr style=\"text-align: right;\">\n",
       "      <th></th>\n",
       "      <th>Number of Rating</th>\n",
       "      <th>Mean Rating</th>\n",
       "    </tr>\n",
       "    <tr>\n",
       "      <th>productId</th>\n",
       "      <th></th>\n",
       "      <th></th>\n",
       "    </tr>\n",
       "  </thead>\n",
       "  <tbody>\n",
       "    <tr>\n",
       "      <th>0132793040</th>\n",
       "      <td>1</td>\n",
       "      <td>5.000000</td>\n",
       "    </tr>\n",
       "    <tr>\n",
       "      <th>0321732944</th>\n",
       "      <td>1</td>\n",
       "      <td>5.000000</td>\n",
       "    </tr>\n",
       "    <tr>\n",
       "      <th>0439886341</th>\n",
       "      <td>3</td>\n",
       "      <td>1.666667</td>\n",
       "    </tr>\n",
       "    <tr>\n",
       "      <th>0511189877</th>\n",
       "      <td>6</td>\n",
       "      <td>4.500000</td>\n",
       "    </tr>\n",
       "    <tr>\n",
       "      <th>0528881469</th>\n",
       "      <td>27</td>\n",
       "      <td>2.851852</td>\n",
       "    </tr>\n",
       "    <tr>\n",
       "      <th>...</th>\n",
       "      <td>...</td>\n",
       "      <td>...</td>\n",
       "    </tr>\n",
       "    <tr>\n",
       "      <th>BT008G3W52</th>\n",
       "      <td>1</td>\n",
       "      <td>5.000000</td>\n",
       "    </tr>\n",
       "    <tr>\n",
       "      <th>BT008SXQ4C</th>\n",
       "      <td>1</td>\n",
       "      <td>1.000000</td>\n",
       "    </tr>\n",
       "    <tr>\n",
       "      <th>BT008T2BGK</th>\n",
       "      <td>1</td>\n",
       "      <td>5.000000</td>\n",
       "    </tr>\n",
       "    <tr>\n",
       "      <th>BT008UKTMW</th>\n",
       "      <td>15</td>\n",
       "      <td>4.000000</td>\n",
       "    </tr>\n",
       "    <tr>\n",
       "      <th>BT008V9J9U</th>\n",
       "      <td>1</td>\n",
       "      <td>5.000000</td>\n",
       "    </tr>\n",
       "  </tbody>\n",
       "</table>\n",
       "<p>476002 rows × 2 columns</p>\n",
       "</div>"
      ],
      "text/plain": [
       "            Number of Rating  Mean Rating\n",
       "productId                                \n",
       "0132793040                 1     5.000000\n",
       "0321732944                 1     5.000000\n",
       "0439886341                 3     1.666667\n",
       "0511189877                 6     4.500000\n",
       "0528881469                27     2.851852\n",
       "...                      ...          ...\n",
       "BT008G3W52                 1     5.000000\n",
       "BT008SXQ4C                 1     1.000000\n",
       "BT008T2BGK                 1     5.000000\n",
       "BT008UKTMW                15     4.000000\n",
       "BT008V9J9U                 1     5.000000\n",
       "\n",
       "[476002 rows x 2 columns]"
      ]
     },
     "execution_count": 10,
     "metadata": {},
     "output_type": "execute_result"
    }
   ],
   "source": [
    "df_rating=pd.DataFrame({'Number of Rating':df.groupby('productId')['rating'].count(), 'Mean Rating':df.groupby('productId')['rating'].mean()})\n",
    "df_rating"
   ]
  },
  {
   "cell_type": "code",
   "execution_count": 11,
   "metadata": {},
   "outputs": [
    {
     "data": {
      "text/html": [
       "<div>\n",
       "<style scoped>\n",
       "    .dataframe tbody tr th:only-of-type {\n",
       "        vertical-align: middle;\n",
       "    }\n",
       "\n",
       "    .dataframe tbody tr th {\n",
       "        vertical-align: top;\n",
       "    }\n",
       "\n",
       "    .dataframe thead th {\n",
       "        text-align: right;\n",
       "    }\n",
       "</style>\n",
       "<table border=\"1\" class=\"dataframe\">\n",
       "  <thead>\n",
       "    <tr style=\"text-align: right;\">\n",
       "      <th></th>\n",
       "      <th>Number of Rating</th>\n",
       "      <th>Mean Rating</th>\n",
       "    </tr>\n",
       "  </thead>\n",
       "  <tbody>\n",
       "    <tr>\n",
       "      <th>count</th>\n",
       "      <td>476002.000000</td>\n",
       "      <td>476002.000000</td>\n",
       "    </tr>\n",
       "    <tr>\n",
       "      <th>mean</th>\n",
       "      <td>16.437918</td>\n",
       "      <td>3.889700</td>\n",
       "    </tr>\n",
       "    <tr>\n",
       "      <th>std</th>\n",
       "      <td>112.702633</td>\n",
       "      <td>1.128719</td>\n",
       "    </tr>\n",
       "    <tr>\n",
       "      <th>min</th>\n",
       "      <td>1.000000</td>\n",
       "      <td>1.000000</td>\n",
       "    </tr>\n",
       "    <tr>\n",
       "      <th>25%</th>\n",
       "      <td>1.000000</td>\n",
       "      <td>3.272727</td>\n",
       "    </tr>\n",
       "    <tr>\n",
       "      <th>50%</th>\n",
       "      <td>2.000000</td>\n",
       "      <td>4.000000</td>\n",
       "    </tr>\n",
       "    <tr>\n",
       "      <th>75%</th>\n",
       "      <td>7.000000</td>\n",
       "      <td>5.000000</td>\n",
       "    </tr>\n",
       "    <tr>\n",
       "      <th>max</th>\n",
       "      <td>18244.000000</td>\n",
       "      <td>5.000000</td>\n",
       "    </tr>\n",
       "  </tbody>\n",
       "</table>\n",
       "</div>"
      ],
      "text/plain": [
       "       Number of Rating    Mean Rating\n",
       "count     476002.000000  476002.000000\n",
       "mean          16.437918       3.889700\n",
       "std          112.702633       1.128719\n",
       "min            1.000000       1.000000\n",
       "25%            1.000000       3.272727\n",
       "50%            2.000000       4.000000\n",
       "75%            7.000000       5.000000\n",
       "max        18244.000000       5.000000"
      ]
     },
     "execution_count": 11,
     "metadata": {},
     "output_type": "execute_result"
    }
   ],
   "source": [
    "df_rating.describe()"
   ]
  },
  {
   "cell_type": "code",
   "execution_count": 12,
   "metadata": {},
   "outputs": [
    {
     "data": {
      "image/png": "[encoded data removed]",
      "text/plain": [
       "<Figure size 1800x600 with 2 Axes>"
      ]
     },
     "metadata": {},
     "output_type": "display_data"
    }
   ],
   "source": [
    "plt.figure(figsize=(18,6))\n",
    "plt.subplot(1,2,1)\n",
    "plt.hist(x='Number of Rating',data=df_rating,bins=50)\n",
    "plt.title('Distribution of Number of Rating', fontsize=15)\n",
    "plt.xlabel('Number of Rating', fontsize=12)\n",
    "plt.ylabel('Frequency', fontsize=12)\n",
    "\n",
    "plt.subplot(1,2,2)\n",
    "plt.hist(x='Mean Rating',data=df_rating,bins=50)\n",
    "plt.title('Distribution of Mean Rating', fontsize=15)\n",
    "plt.xlabel('Mean Rating', fontsize=12)\n",
    "plt.yticks([])\n",
    "plt.show()"
   ]
  },
  {
   "cell_type": "markdown",
   "metadata": {},
   "source": [
    "From these histograms we can see that most of the number of ratings are between 0 and 2000, and most of the products have an average rating between 3.5-5."
   ]
  },
  {
   "cell_type": "code",
   "execution_count": 13,
   "metadata": {},
   "outputs": [
    {
     "name": "stdout",
     "output_type": "stream",
     "text": [
      "Overall Average rating :  3.889700263013201\n"
     ]
    }
   ],
   "source": [
    "print('Overall Average rating : ',df_rating['Mean Rating'].mean())"
   ]
  },
  {
   "cell_type": "markdown",
   "metadata": {},
   "source": [
    "The mean rating for all the products (C) is 3.9 on a scale of 5.\n",
    "\n",
    "The next step is to determine an appropriate value for m, the minimum number of votes required for a product to be listed in the chart. We use 90th percentile as our cutoff. In other words, for a product to feature in the charts, the number of its votes should be higher than that of 90% of the products in the list."
   ]
  },
  {
   "cell_type": "code",
   "execution_count": 14,
   "metadata": {},
   "outputs": [
    {
     "data": {
      "text/plain": [
       "25.0"
      ]
     },
     "execution_count": 14,
     "metadata": {},
     "output_type": "execute_result"
    }
   ],
   "source": [
    "df_rating['Number of Rating'].quantile(q=0.9)"
   ]
  },
  {
   "cell_type": "markdown",
   "metadata": {},
   "source": [
    "Now, we filter the products that qualify for the chart and put them in a new dataframe called df_filtered."
   ]
  },
  {
   "cell_type": "code",
   "execution_count": 15,
   "metadata": {},
   "outputs": [],
   "source": [
    "m=df_rating['Number of Rating'].quantile(q=0.9)\n",
    "df_filtered = df_rating[df_rating['Number of Rating']>=m]\n",
    "df_filtered = df_filtered[df_filtered['Mean Rating'] >= df_filtered['Mean Rating'].mean()]"
   ]
  },
  {
   "cell_type": "code",
   "execution_count": 16,
   "metadata": {},
   "outputs": [
    {
     "data": {
      "text/html": [
       "<div>\n",
       "<style scoped>\n",
       "    .dataframe tbody tr th:only-of-type {\n",
       "        vertical-align: middle;\n",
       "    }\n",
       "\n",
       "    .dataframe tbody tr th {\n",
       "        vertical-align: top;\n",
       "    }\n",
       "\n",
       "    .dataframe thead th {\n",
       "        text-align: right;\n",
       "    }\n",
       "</style>\n",
       "<table border=\"1\" class=\"dataframe\">\n",
       "  <thead>\n",
       "    <tr style=\"text-align: right;\">\n",
       "      <th></th>\n",
       "      <th>Number of Rating</th>\n",
       "      <th>Mean Rating</th>\n",
       "    </tr>\n",
       "    <tr>\n",
       "      <th>productId</th>\n",
       "      <th></th>\n",
       "      <th></th>\n",
       "    </tr>\n",
       "  </thead>\n",
       "  <tbody>\n",
       "    <tr>\n",
       "      <th>0594481813</th>\n",
       "      <td>31</td>\n",
       "      <td>4.225806</td>\n",
       "    </tr>\n",
       "    <tr>\n",
       "      <th>0972683275</th>\n",
       "      <td>1051</td>\n",
       "      <td>4.470980</td>\n",
       "    </tr>\n",
       "    <tr>\n",
       "      <th>1400501474</th>\n",
       "      <td>29</td>\n",
       "      <td>4.448276</td>\n",
       "    </tr>\n",
       "    <tr>\n",
       "      <th>1400501520</th>\n",
       "      <td>82</td>\n",
       "      <td>4.243902</td>\n",
       "    </tr>\n",
       "    <tr>\n",
       "      <th>1400698987</th>\n",
       "      <td>138</td>\n",
       "      <td>4.246377</td>\n",
       "    </tr>\n",
       "    <tr>\n",
       "      <th>...</th>\n",
       "      <td>...</td>\n",
       "      <td>...</td>\n",
       "    </tr>\n",
       "    <tr>\n",
       "      <th>B00KMRGF28</th>\n",
       "      <td>33</td>\n",
       "      <td>4.030303</td>\n",
       "    </tr>\n",
       "    <tr>\n",
       "      <th>B00KPRWAX8</th>\n",
       "      <td>35</td>\n",
       "      <td>4.714286</td>\n",
       "    </tr>\n",
       "    <tr>\n",
       "      <th>B00KYMCJF8</th>\n",
       "      <td>48</td>\n",
       "      <td>4.458333</td>\n",
       "    </tr>\n",
       "    <tr>\n",
       "      <th>B00L26YDA4</th>\n",
       "      <td>30</td>\n",
       "      <td>4.233333</td>\n",
       "    </tr>\n",
       "    <tr>\n",
       "      <th>B00L3YHF6O</th>\n",
       "      <td>70</td>\n",
       "      <td>4.814286</td>\n",
       "    </tr>\n",
       "  </tbody>\n",
       "</table>\n",
       "<p>27496 rows × 2 columns</p>\n",
       "</div>"
      ],
      "text/plain": [
       "            Number of Rating  Mean Rating\n",
       "productId                                \n",
       "0594481813                31     4.225806\n",
       "0972683275              1051     4.470980\n",
       "1400501474                29     4.448276\n",
       "1400501520                82     4.243902\n",
       "1400698987               138     4.246377\n",
       "...                      ...          ...\n",
       "B00KMRGF28                33     4.030303\n",
       "B00KPRWAX8                35     4.714286\n",
       "B00KYMCJF8                48     4.458333\n",
       "B00L26YDA4                30     4.233333\n",
       "B00L3YHF6O                70     4.814286\n",
       "\n",
       "[27496 rows x 2 columns]"
      ]
     },
     "execution_count": 16,
     "metadata": {},
     "output_type": "execute_result"
    }
   ],
   "source": [
    "df_filtered"
   ]
  },
  {
   "cell_type": "code",
   "execution_count": 17,
   "metadata": {},
   "outputs": [
    {
     "data": {
      "text/html": [
       "<div>\n",
       "<style scoped>\n",
       "    .dataframe tbody tr th:only-of-type {\n",
       "        vertical-align: middle;\n",
       "    }\n",
       "\n",
       "    .dataframe tbody tr th {\n",
       "        vertical-align: top;\n",
       "    }\n",
       "\n",
       "    .dataframe thead th {\n",
       "        text-align: right;\n",
       "    }\n",
       "</style>\n",
       "<table border=\"1\" class=\"dataframe\">\n",
       "  <thead>\n",
       "    <tr style=\"text-align: right;\">\n",
       "      <th></th>\n",
       "      <th>Number of Rating</th>\n",
       "      <th>Mean Rating</th>\n",
       "    </tr>\n",
       "  </thead>\n",
       "  <tbody>\n",
       "    <tr>\n",
       "      <th>count</th>\n",
       "      <td>27496.000000</td>\n",
       "      <td>27496.000000</td>\n",
       "    </tr>\n",
       "    <tr>\n",
       "      <th>mean</th>\n",
       "      <td>143.557536</td>\n",
       "      <td>4.348600</td>\n",
       "    </tr>\n",
       "    <tr>\n",
       "      <th>std</th>\n",
       "      <td>396.752701</td>\n",
       "      <td>0.234001</td>\n",
       "    </tr>\n",
       "    <tr>\n",
       "      <th>min</th>\n",
       "      <td>25.000000</td>\n",
       "      <td>3.956790</td>\n",
       "    </tr>\n",
       "    <tr>\n",
       "      <th>25%</th>\n",
       "      <td>35.000000</td>\n",
       "      <td>4.155415</td>\n",
       "    </tr>\n",
       "    <tr>\n",
       "      <th>50%</th>\n",
       "      <td>56.000000</td>\n",
       "      <td>4.336027</td>\n",
       "    </tr>\n",
       "    <tr>\n",
       "      <th>75%</th>\n",
       "      <td>117.000000</td>\n",
       "      <td>4.523810</td>\n",
       "    </tr>\n",
       "    <tr>\n",
       "      <th>max</th>\n",
       "      <td>18244.000000</td>\n",
       "      <td>5.000000</td>\n",
       "    </tr>\n",
       "  </tbody>\n",
       "</table>\n",
       "</div>"
      ],
      "text/plain": [
       "       Number of Rating   Mean Rating\n",
       "count      27496.000000  27496.000000\n",
       "mean         143.557536      4.348600\n",
       "std          396.752701      0.234001\n",
       "min           25.000000      3.956790\n",
       "25%           35.000000      4.155415\n",
       "50%           56.000000      4.336027\n",
       "75%          117.000000      4.523810\n",
       "max        18244.000000      5.000000"
      ]
     },
     "execution_count": 17,
     "metadata": {},
     "output_type": "execute_result"
    }
   ],
   "source": [
    "df_filtered.describe()"
   ]
  },
  {
   "cell_type": "markdown",
   "metadata": {},
   "source": [
    "Now lets build our formula and recommend based on it: "
   ]
  },
  {
   "cell_type": "code",
   "execution_count": 18,
   "metadata": {},
   "outputs": [],
   "source": [
    "c=df_rating['Mean Rating'].mean()\n",
    "def product_score(x,m,c):\n",
    "    v=x['Number of Rating']\n",
    "    R=x['Mean Rating']\n",
    "    return ((R*v)/(v+m))+((c*m)/(v+m))"
   ]
  },
  {
   "cell_type": "code",
   "execution_count": 19,
   "metadata": {},
   "outputs": [],
   "source": [
    "df_filtered['score']=df_filtered.apply(lambda x: product_score(x,m,c), axis=1)"
   ]
  },
  {
   "cell_type": "code",
   "execution_count": 20,
   "metadata": {},
   "outputs": [
    {
     "data": {
      "text/html": [
       "<div>\n",
       "<style scoped>\n",
       "    .dataframe tbody tr th:only-of-type {\n",
       "        vertical-align: middle;\n",
       "    }\n",
       "\n",
       "    .dataframe tbody tr th {\n",
       "        vertical-align: top;\n",
       "    }\n",
       "\n",
       "    .dataframe thead th {\n",
       "        text-align: right;\n",
       "    }\n",
       "</style>\n",
       "<table border=\"1\" class=\"dataframe\">\n",
       "  <thead>\n",
       "    <tr style=\"text-align: right;\">\n",
       "      <th></th>\n",
       "      <th>Number of Rating</th>\n",
       "      <th>Mean Rating</th>\n",
       "      <th>score</th>\n",
       "    </tr>\n",
       "    <tr>\n",
       "      <th>productId</th>\n",
       "      <th></th>\n",
       "      <th></th>\n",
       "      <th></th>\n",
       "    </tr>\n",
       "  </thead>\n",
       "  <tbody>\n",
       "    <tr>\n",
       "      <th>B0043WJRRS</th>\n",
       "      <td>2512</td>\n",
       "      <td>4.881369</td>\n",
       "      <td>4.871597</td>\n",
       "    </tr>\n",
       "    <tr>\n",
       "      <th>B00CG70K78</th>\n",
       "      <td>237</td>\n",
       "      <td>4.949367</td>\n",
       "      <td>4.848254</td>\n",
       "    </tr>\n",
       "    <tr>\n",
       "      <th>B007SZ0E1K</th>\n",
       "      <td>449</td>\n",
       "      <td>4.895323</td>\n",
       "      <td>4.842284</td>\n",
       "    </tr>\n",
       "    <tr>\n",
       "      <th>B003FVVMS0</th>\n",
       "      <td>1876</td>\n",
       "      <td>4.853412</td>\n",
       "      <td>4.840738</td>\n",
       "    </tr>\n",
       "    <tr>\n",
       "      <th>B0033PRWSW</th>\n",
       "      <td>387</td>\n",
       "      <td>4.901809</td>\n",
       "      <td>4.840394</td>\n",
       "    </tr>\n",
       "    <tr>\n",
       "      <th>...</th>\n",
       "      <td>...</td>\n",
       "      <td>...</td>\n",
       "      <td>...</td>\n",
       "    </tr>\n",
       "    <tr>\n",
       "      <th>B001SH4ECY</th>\n",
       "      <td>25</td>\n",
       "      <td>3.960000</td>\n",
       "      <td>3.924850</td>\n",
       "    </tr>\n",
       "    <tr>\n",
       "      <th>B009G8F6PG</th>\n",
       "      <td>25</td>\n",
       "      <td>3.960000</td>\n",
       "      <td>3.924850</td>\n",
       "    </tr>\n",
       "    <tr>\n",
       "      <th>B0013Z9F66</th>\n",
       "      <td>25</td>\n",
       "      <td>3.960000</td>\n",
       "      <td>3.924850</td>\n",
       "    </tr>\n",
       "    <tr>\n",
       "      <th>B00HRLSS4U</th>\n",
       "      <td>25</td>\n",
       "      <td>3.960000</td>\n",
       "      <td>3.924850</td>\n",
       "    </tr>\n",
       "    <tr>\n",
       "      <th>B003ENSG42</th>\n",
       "      <td>25</td>\n",
       "      <td>3.960000</td>\n",
       "      <td>3.924850</td>\n",
       "    </tr>\n",
       "  </tbody>\n",
       "</table>\n",
       "<p>27496 rows × 3 columns</p>\n",
       "</div>"
      ],
      "text/plain": [
       "            Number of Rating  Mean Rating     score\n",
       "productId                                          \n",
       "B0043WJRRS              2512     4.881369  4.871597\n",
       "B00CG70K78               237     4.949367  4.848254\n",
       "B007SZ0E1K               449     4.895323  4.842284\n",
       "B003FVVMS0              1876     4.853412  4.840738\n",
       "B0033PRWSW               387     4.901809  4.840394\n",
       "...                      ...          ...       ...\n",
       "B001SH4ECY                25     3.960000  3.924850\n",
       "B009G8F6PG                25     3.960000  3.924850\n",
       "B0013Z9F66                25     3.960000  3.924850\n",
       "B00HRLSS4U                25     3.960000  3.924850\n",
       "B003ENSG42                25     3.960000  3.924850\n",
       "\n",
       "[27496 rows x 3 columns]"
      ]
     },
     "execution_count": 20,
     "metadata": {},
     "output_type": "execute_result"
    }
   ],
   "source": [
    "df_filtered.sort_values('score',ascending=False)"
   ]
  },
  {
   "cell_type": "markdown",
   "metadata": {},
   "source": [
    "#### Now we have a list of the best 27497 products in our system, these products have high scores based on their ratings and number of ratings. \n",
    "#### these scores are not user-specific, which can be used for general suggestions or for our new users with no captured user-product behaviour/information "
   ]
  },
  {
   "cell_type": "markdown",
   "metadata": {},
   "source": [
    "## 2. Machine Learning Approach (SVD)"
   ]
  },
  {
   "cell_type": "markdown",
   "metadata": {},
   "source": [
    "For this section I'll training a ML model to recommend products based on user interactions with other products. \n",
    "I'll assume that a recommendation for user-suitable products will have a score >=3 which will be considered \"good\" for the user, hence any product with a score less than 3 will be considered \"bad\" for the user"
   ]
  },
  {
   "cell_type": "markdown",
   "metadata": {},
   "source": [
    "First I'll make sure that each user in my dataset has rated at least 2 products, this is imporant when I split the data for training and testing \n",
    "and I'll do that by filtering my data based on that condition "
   ]
  },
  {
   "cell_type": "code",
   "execution_count": 21,
   "metadata": {},
   "outputs": [
    {
     "name": "stdout",
     "output_type": "stream",
     "text": [
      "2\n"
     ]
    }
   ],
   "source": [
    "user_counts = df['userId'].value_counts()[df['userId'].value_counts() >= 2 ]\n",
    "df_filtered = df[df['userId'].isin(user_counts.index)]\n",
    "print(df_filtered['userId'].value_counts().min())\n"
   ]
  },
  {
   "cell_type": "code",
   "execution_count": 22,
   "metadata": {},
   "outputs": [
    {
     "data": {
      "text/html": [
       "<div>\n",
       "<style scoped>\n",
       "    .dataframe tbody tr th:only-of-type {\n",
       "        vertical-align: middle;\n",
       "    }\n",
       "\n",
       "    .dataframe tbody tr th {\n",
       "        vertical-align: top;\n",
       "    }\n",
       "\n",
       "    .dataframe thead th {\n",
       "        text-align: right;\n",
       "    }\n",
       "</style>\n",
       "<table border=\"1\" class=\"dataframe\">\n",
       "  <thead>\n",
       "    <tr style=\"text-align: right;\">\n",
       "      <th></th>\n",
       "      <th>userId</th>\n",
       "      <th>productId</th>\n",
       "      <th>rating</th>\n",
       "    </tr>\n",
       "  </thead>\n",
       "  <tbody>\n",
       "    <tr>\n",
       "      <th>0</th>\n",
       "      <td>AKM1MP6P0OYPR</td>\n",
       "      <td>0132793040</td>\n",
       "      <td>5.0</td>\n",
       "    </tr>\n",
       "    <tr>\n",
       "      <th>1</th>\n",
       "      <td>A2CX7LUOHB2NDG</td>\n",
       "      <td>0321732944</td>\n",
       "      <td>5.0</td>\n",
       "    </tr>\n",
       "    <tr>\n",
       "      <th>5</th>\n",
       "      <td>A1QGNMC6O1VW39</td>\n",
       "      <td>0511189877</td>\n",
       "      <td>5.0</td>\n",
       "    </tr>\n",
       "    <tr>\n",
       "      <th>6</th>\n",
       "      <td>A3J3BRHTDRFJ2G</td>\n",
       "      <td>0511189877</td>\n",
       "      <td>2.0</td>\n",
       "    </tr>\n",
       "    <tr>\n",
       "      <th>7</th>\n",
       "      <td>A2TY0BTJOTENPG</td>\n",
       "      <td>0511189877</td>\n",
       "      <td>5.0</td>\n",
       "    </tr>\n",
       "    <tr>\n",
       "      <th>...</th>\n",
       "      <td>...</td>\n",
       "      <td>...</td>\n",
       "      <td>...</td>\n",
       "    </tr>\n",
       "    <tr>\n",
       "      <th>7824475</th>\n",
       "      <td>A2R6Q6KJCYSVH7</td>\n",
       "      <td>BT008UKTMW</td>\n",
       "      <td>3.0</td>\n",
       "    </tr>\n",
       "    <tr>\n",
       "      <th>7824477</th>\n",
       "      <td>A2YZI3C9MOHC0L</td>\n",
       "      <td>BT008UKTMW</td>\n",
       "      <td>5.0</td>\n",
       "    </tr>\n",
       "    <tr>\n",
       "      <th>7824478</th>\n",
       "      <td>A322MDK0M89RHN</td>\n",
       "      <td>BT008UKTMW</td>\n",
       "      <td>5.0</td>\n",
       "    </tr>\n",
       "    <tr>\n",
       "      <th>7824479</th>\n",
       "      <td>A1MH90R0ADMIK0</td>\n",
       "      <td>BT008UKTMW</td>\n",
       "      <td>4.0</td>\n",
       "    </tr>\n",
       "    <tr>\n",
       "      <th>7824481</th>\n",
       "      <td>A2G81TMIOIDEQQ</td>\n",
       "      <td>BT008V9J9U</td>\n",
       "      <td>5.0</td>\n",
       "    </tr>\n",
       "  </tbody>\n",
       "</table>\n",
       "<p>4942650 rows × 3 columns</p>\n",
       "</div>"
      ],
      "text/plain": [
       "                 userId   productId  rating\n",
       "0         AKM1MP6P0OYPR  0132793040     5.0\n",
       "1        A2CX7LUOHB2NDG  0321732944     5.0\n",
       "5        A1QGNMC6O1VW39  0511189877     5.0\n",
       "6        A3J3BRHTDRFJ2G  0511189877     2.0\n",
       "7        A2TY0BTJOTENPG  0511189877     5.0\n",
       "...                 ...         ...     ...\n",
       "7824475  A2R6Q6KJCYSVH7  BT008UKTMW     3.0\n",
       "7824477  A2YZI3C9MOHC0L  BT008UKTMW     5.0\n",
       "7824478  A322MDK0M89RHN  BT008UKTMW     5.0\n",
       "7824479  A1MH90R0ADMIK0  BT008UKTMW     4.0\n",
       "7824481  A2G81TMIOIDEQQ  BT008V9J9U     5.0\n",
       "\n",
       "[4942650 rows x 3 columns]"
      ]
     },
     "execution_count": 22,
     "metadata": {},
     "output_type": "execute_result"
    }
   ],
   "source": [
    "df_filtered"
   ]
  },
  {
   "cell_type": "code",
   "execution_count": 23,
   "metadata": {},
   "outputs": [
    {
     "name": "stdout",
     "output_type": "stream",
     "text": [
      "Number of unique users in the dataset:   1319864\n"
     ]
    }
   ],
   "source": [
    "print('Number of unique users in the dataset:  ', df_filtered['userId'].nunique())"
   ]
  },
  {
   "cell_type": "markdown",
   "metadata": {},
   "source": [
    "Now I'll define my testing data ratio size to be at least the minimum required amount of records to have all the users "
   ]
  },
  {
   "cell_type": "code",
   "execution_count": 24,
   "metadata": {},
   "outputs": [
    {
     "data": {
      "text/plain": [
       "0.36432292716158227"
      ]
     },
     "execution_count": 24,
     "metadata": {},
     "output_type": "execute_result"
    }
   ],
   "source": [
    "test_size = df_filtered['userId'].nunique()/( len(df_filtered) - df_filtered['userId'].nunique()) \n",
    "test_size"
   ]
  },
  {
   "cell_type": "code",
   "execution_count": 25,
   "metadata": {},
   "outputs": [],
   "source": [
    "df_filtered_train, df_filtered_test = sk_train_test_split(df_filtered,test_size=test_size+0.02,stratify=df_filtered['userId'])"
   ]
  },
  {
   "cell_type": "markdown",
   "metadata": {},
   "source": [
    "make sure that both sets have the same amount of users "
   ]
  },
  {
   "cell_type": "code",
   "execution_count": 26,
   "metadata": {},
   "outputs": [
    {
     "name": "stdout",
     "output_type": "stream",
     "text": [
      "Number of unique users in the training set:   1319864\n",
      "Number of unique users in the testing set:   1319864\n"
     ]
    }
   ],
   "source": [
    "print('Number of unique users in the training set:  ', df_filtered_train['userId'].nunique())\n",
    "print('Number of unique users in the testing set:  ', df_filtered_test['userId'].nunique())"
   ]
  },
  {
   "cell_type": "markdown",
   "metadata": {},
   "source": [
    "Lets read the data using surprise reader and split it into training and testing sets, for training and testing"
   ]
  },
  {
   "cell_type": "code",
   "execution_count": 27,
   "metadata": {},
   "outputs": [],
   "source": [
    "reader = Reader(rating_scale=(1, 5.0))\n",
    "trainset = Dataset.load_from_df(df_filtered_train,reader)\n",
    "testset = Dataset.load_from_df(df_filtered_test,reader)\n",
    "data = Dataset.load_from_df(df,reader)"
   ]
  },
  {
   "cell_type": "markdown",
   "metadata": {},
   "source": [
    "Now lets initialize our ML model, and fit it on the training data"
   ]
  },
  {
   "cell_type": "code",
   "execution_count": 28,
   "metadata": {},
   "outputs": [
    {
     "data": {
      "text/plain": [
       "<surprise.prediction_algorithms.matrix_factorization.SVD at 0x1ed4a3b6410>"
      ]
     },
     "execution_count": 28,
     "metadata": {},
     "output_type": "execute_result"
    }
   ],
   "source": [
    "svd = SVD()\n",
    "\n",
    "svd.fit(trainset.build_full_trainset())"
   ]
  },
  {
   "cell_type": "markdown",
   "metadata": {},
   "source": [
    "Our model is done training, I want to test its behaviour on both the training and testing data"
   ]
  },
  {
   "cell_type": "code",
   "execution_count": 29,
   "metadata": {},
   "outputs": [],
   "source": [
    "trainset_1 = trainset.build_full_trainset().build_testset() # this line is important to test the model on the training data"
   ]
  },
  {
   "cell_type": "markdown",
   "metadata": {},
   "source": [
    "### Now lets evaluate our models performance on the training data"
   ]
  },
  {
   "cell_type": "code",
   "execution_count": 30,
   "metadata": {},
   "outputs": [
    {
     "name": "stdout",
     "output_type": "stream",
     "text": [
      "MAE:  0.6027\n",
      "RMSE: 0.7901\n",
      "the models Mean absolute error on the training data is :0.6027135955128876, and the Root mean squared error is: 0.7900667150795867\n"
     ]
    }
   ],
   "source": [
    "train_preds = svd.test(trainset_1)\n",
    "print(f\"the models Mean absolute error on the training data is :{accuracy.mae(train_preds)}, and the Root mean squared error is: {accuracy.rmse(train_preds)}\" )"
   ]
  },
  {
   "cell_type": "markdown",
   "metadata": {},
   "source": [
    "### The function below is derived from Surprise documentation to calculate the measures precision and recall"
   ]
  },
  {
   "cell_type": "code",
   "execution_count": 31,
   "metadata": {},
   "outputs": [],
   "source": [
    "threshold = 3 "
   ]
  },
  {
   "cell_type": "code",
   "execution_count": 32,
   "metadata": {},
   "outputs": [],
   "source": [
    "def precision_recall_at_k(predictions, k=10, threshold=3.5):\n",
    "    \"\"\"Return precision and recall at k metrics for each user\"\"\"\n",
    "\n",
    "    # First map the predictions to each user.\n",
    "    user_est_true = defaultdict(list)\n",
    "    for uid, _, true_r, est, _ in predictions:\n",
    "        user_est_true[uid].append((est, true_r))\n",
    "\n",
    "    precisions = dict()\n",
    "    recalls = dict()\n",
    "    for uid, user_ratings in user_est_true.items():\n",
    "\n",
    "        # Sort user ratings by estimated value\n",
    "        user_ratings.sort(key=lambda x: x[0], reverse=True)\n",
    "\n",
    "        # Number of relevant items\n",
    "        n_rel = sum((true_r >= threshold) for (_, true_r) in user_ratings)\n",
    "\n",
    "        # Number of recommended items in top k\n",
    "        n_rec_k = sum((est >= threshold) for (est, _) in user_ratings[:k])\n",
    "\n",
    "        # Number of relevant and recommended items in top k\n",
    "        n_rel_and_rec_k = sum(\n",
    "            ((true_r >= threshold) and (est >= threshold))\n",
    "            for (est, true_r) in user_ratings[:k]\n",
    "        )\n",
    "\n",
    "        # Precision@K: Proportion of recommended items that are relevant\n",
    "        # When n_rec_k is 0, Precision is undefined. We here set it to 0.\n",
    "\n",
    "        precisions[uid] = n_rel_and_rec_k / n_rec_k if n_rec_k != 0 else 0\n",
    "\n",
    "        # Recall@K: Proportion of relevant items that are recommended\n",
    "        # When n_rel is 0, Recall is undefined. We here set it to 0.\n",
    "\n",
    "        recalls[uid] = n_rel_and_rec_k / n_rel if n_rel != 0 else 0\n",
    "\n",
    "    return precisions, recalls\n",
    "\n",
    "def Surprise_Evaluate(precisions,recalls):\n",
    "    overall_precision = np.mean(list(precisions.values()))\n",
    "    overall_recall = np.mean(list(recalls.values()))\n",
    "    f1_score = 2 * (overall_precision * overall_recall) / (overall_precision + overall_recall)\n",
    "    print(f\"the models Precision on the training data is :{overall_precision}, and the Recall is: {overall_recall}, and the F1-score is {f1_score}\" )\n",
    "    return overall_precision,overall_recall,f1_score\n"
   ]
  },
  {
   "cell_type": "code",
   "execution_count": 33,
   "metadata": {},
   "outputs": [
    {
     "name": "stdout",
     "output_type": "stream",
     "text": [
      "the models Precision on the training data is :0.865756889605799, and the Recall is: 0.8959203659327636, and the F1-score is 0.8805803979200661\n"
     ]
    }
   ],
   "source": [
    "precisions, recalls = precision_recall_at_k(train_preds, k=50, threshold=threshold)\n",
    "_,_,_ = Surprise_Evaluate(precisions,recalls)"
   ]
  },
  {
   "cell_type": "markdown",
   "metadata": {},
   "source": [
    "### Now lets evaluate our models performance on the Testing data: "
   ]
  },
  {
   "cell_type": "code",
   "execution_count": 34,
   "metadata": {},
   "outputs": [
    {
     "name": "stdout",
     "output_type": "stream",
     "text": [
      "MAE:  0.9377\n",
      "RMSE: 1.2236\n",
      "the models Mean absolute error on the training data is :0.9376684312508932, and the Root mean squared error is: 1.2235585645591447\n"
     ]
    }
   ],
   "source": [
    "test_preds = svd.test(testset.build_full_trainset().build_testset())\n",
    "print(f\"the models Mean absolute error on the training data is :{accuracy.mae(test_preds)}, and the Root mean squared error is: {accuracy.rmse(test_preds)}\" )"
   ]
  },
  {
   "cell_type": "code",
   "execution_count": 35,
   "metadata": {},
   "outputs": [
    {
     "name": "stdout",
     "output_type": "stream",
     "text": [
      "the models Precision on the training data is :0.8349799997231752, and the Recall is: 0.8524215555403659, and the F1-score is 0.8436106367081785\n"
     ]
    }
   ],
   "source": [
    "precisions, recalls = precision_recall_at_k(test_preds, k=50, threshold=threshold)\n",
    "_,_,_ = Surprise_Evaluate(precisions,recalls)"
   ]
  },
  {
   "cell_type": "markdown",
   "metadata": {},
   "source": [
    "### For further evaluation, I will label the data based on the defined threshold for good and bad products to be recommended for the user\n",
    "### and then I will calculate the precision , recall , f1-score based on these labels (good , bad ) "
   ]
  },
  {
   "cell_type": "code",
   "execution_count": 36,
   "metadata": {},
   "outputs": [],
   "source": [
    "def predict_rating_label(model,uid,iid,threshold=3):\n",
    "    pred = model.predict(uid=uid,iid=iid).est\n",
    "    if pred >= threshold : return 'Good'\n",
    "    else : return 'Bad'"
   ]
  },
  {
   "cell_type": "markdown",
   "metadata": {},
   "source": [
    "### test the model on training data : \n",
    "\n",
    "lets label our training data"
   ]
  },
  {
   "cell_type": "code",
   "execution_count": 37,
   "metadata": {},
   "outputs": [],
   "source": [
    "df_filtered_train.loc[df_filtered_train['rating'] >= threshold, 'Label'] = 'Good'\n",
    "df_filtered_train.loc[df_filtered_train['rating'] < threshold, 'Label'] = 'Bad'"
   ]
  },
  {
   "cell_type": "code",
   "execution_count": 38,
   "metadata": {},
   "outputs": [
    {
     "data": {
      "text/html": [
       "<div>\n",
       "<style scoped>\n",
       "    .dataframe tbody tr th:only-of-type {\n",
       "        vertical-align: middle;\n",
       "    }\n",
       "\n",
       "    .dataframe tbody tr th {\n",
       "        vertical-align: top;\n",
       "    }\n",
       "\n",
       "    .dataframe thead th {\n",
       "        text-align: right;\n",
       "    }\n",
       "</style>\n",
       "<table border=\"1\" class=\"dataframe\">\n",
       "  <thead>\n",
       "    <tr style=\"text-align: right;\">\n",
       "      <th></th>\n",
       "      <th>userId</th>\n",
       "      <th>productId</th>\n",
       "      <th>rating</th>\n",
       "      <th>Label</th>\n",
       "    </tr>\n",
       "  </thead>\n",
       "  <tbody>\n",
       "    <tr>\n",
       "      <th>7118669</th>\n",
       "      <td>AEN0AQVJUOS1Y</td>\n",
       "      <td>B00BIULEJC</td>\n",
       "      <td>5.0</td>\n",
       "      <td>Good</td>\n",
       "    </tr>\n",
       "    <tr>\n",
       "      <th>6695603</th>\n",
       "      <td>A9P7A49W0DP1N</td>\n",
       "      <td>B009R90TTW</td>\n",
       "      <td>5.0</td>\n",
       "      <td>Good</td>\n",
       "    </tr>\n",
       "    <tr>\n",
       "      <th>712958</th>\n",
       "      <td>A2XFAVOWDM082N</td>\n",
       "      <td>B000ACGE3U</td>\n",
       "      <td>5.0</td>\n",
       "      <td>Good</td>\n",
       "    </tr>\n",
       "    <tr>\n",
       "      <th>2399964</th>\n",
       "      <td>A15C8VPFPQBH0W</td>\n",
       "      <td>B001XZHP5E</td>\n",
       "      <td>5.0</td>\n",
       "      <td>Good</td>\n",
       "    </tr>\n",
       "    <tr>\n",
       "      <th>4311851</th>\n",
       "      <td>A1PYI6ST7701G9</td>\n",
       "      <td>B004O4LLU6</td>\n",
       "      <td>5.0</td>\n",
       "      <td>Good</td>\n",
       "    </tr>\n",
       "    <tr>\n",
       "      <th>...</th>\n",
       "      <td>...</td>\n",
       "      <td>...</td>\n",
       "      <td>...</td>\n",
       "      <td>...</td>\n",
       "    </tr>\n",
       "    <tr>\n",
       "      <th>4232459</th>\n",
       "      <td>A4HJUEM7EU8HV</td>\n",
       "      <td>B004L9M4C8</td>\n",
       "      <td>3.0</td>\n",
       "      <td>Good</td>\n",
       "    </tr>\n",
       "    <tr>\n",
       "      <th>184294</th>\n",
       "      <td>A2GPQUV5GEZ07D</td>\n",
       "      <td>B00006HSBC</td>\n",
       "      <td>3.0</td>\n",
       "      <td>Good</td>\n",
       "    </tr>\n",
       "    <tr>\n",
       "      <th>1167359</th>\n",
       "      <td>A3IKLLUG4K01JR</td>\n",
       "      <td>B000MKKTKE</td>\n",
       "      <td>3.0</td>\n",
       "      <td>Good</td>\n",
       "    </tr>\n",
       "    <tr>\n",
       "      <th>3591762</th>\n",
       "      <td>A3HKRXTGPX7ZNB</td>\n",
       "      <td>B003V4AK4I</td>\n",
       "      <td>5.0</td>\n",
       "      <td>Good</td>\n",
       "    </tr>\n",
       "    <tr>\n",
       "      <th>6521322</th>\n",
       "      <td>AOEG7G97HCETR</td>\n",
       "      <td>B0097C57GO</td>\n",
       "      <td>4.0</td>\n",
       "      <td>Good</td>\n",
       "    </tr>\n",
       "  </tbody>\n",
       "</table>\n",
       "<p>3043076 rows × 4 columns</p>\n",
       "</div>"
      ],
      "text/plain": [
       "                 userId   productId  rating Label\n",
       "7118669   AEN0AQVJUOS1Y  B00BIULEJC     5.0  Good\n",
       "6695603   A9P7A49W0DP1N  B009R90TTW     5.0  Good\n",
       "712958   A2XFAVOWDM082N  B000ACGE3U     5.0  Good\n",
       "2399964  A15C8VPFPQBH0W  B001XZHP5E     5.0  Good\n",
       "4311851  A1PYI6ST7701G9  B004O4LLU6     5.0  Good\n",
       "...                 ...         ...     ...   ...\n",
       "4232459   A4HJUEM7EU8HV  B004L9M4C8     3.0  Good\n",
       "184294   A2GPQUV5GEZ07D  B00006HSBC     3.0  Good\n",
       "1167359  A3IKLLUG4K01JR  B000MKKTKE     3.0  Good\n",
       "3591762  A3HKRXTGPX7ZNB  B003V4AK4I     5.0  Good\n",
       "6521322   AOEG7G97HCETR  B0097C57GO     4.0  Good\n",
       "\n",
       "[3043076 rows x 4 columns]"
      ]
     },
     "execution_count": 38,
     "metadata": {},
     "output_type": "execute_result"
    }
   ],
   "source": [
    "df_filtered_train"
   ]
  },
  {
   "cell_type": "markdown",
   "metadata": {},
   "source": [
    "now lets make prediction from the model and calculate our measures "
   ]
  },
  {
   "cell_type": "code",
   "execution_count": 39,
   "metadata": {},
   "outputs": [
    {
     "name": "stdout",
     "output_type": "stream",
     "text": [
      "              precision    recall  f1-score   support\n",
      "\n",
      "         Bad       0.94      0.51      0.66    432800\n",
      "        Good       0.92      1.00      0.96   2610276\n",
      "\n",
      "    accuracy                           0.93   3043076\n",
      "   macro avg       0.93      0.75      0.81   3043076\n",
      "weighted avg       0.93      0.93      0.92   3043076\n",
      "\n"
     ]
    }
   ],
   "source": [
    "df_filtered_train['Pred'] = df_filtered_train.apply(lambda x: predict_rating_label(svd,x['userId'],x['productId']),axis=1 )\n",
    "print(classification_report(df_filtered_train['Label'], df_filtered_train['Pred']))"
   ]
  },
  {
   "cell_type": "markdown",
   "metadata": {},
   "source": [
    "### test the model on testing data : \n",
    "\n",
    "lets label our testiung data"
   ]
  },
  {
   "cell_type": "code",
   "execution_count": 40,
   "metadata": {},
   "outputs": [],
   "source": [
    "df_filtered_test.loc[df_filtered_test['rating'] >= threshold, 'Label'] = 'Good'\n",
    "df_filtered_test.loc[df_filtered_test['rating'] < threshold, 'Label'] = 'Bad'"
   ]
  },
  {
   "cell_type": "code",
   "execution_count": 41,
   "metadata": {},
   "outputs": [
    {
     "data": {
      "text/html": [
       "<div>\n",
       "<style scoped>\n",
       "    .dataframe tbody tr th:only-of-type {\n",
       "        vertical-align: middle;\n",
       "    }\n",
       "\n",
       "    .dataframe tbody tr th {\n",
       "        vertical-align: top;\n",
       "    }\n",
       "\n",
       "    .dataframe thead th {\n",
       "        text-align: right;\n",
       "    }\n",
       "</style>\n",
       "<table border=\"1\" class=\"dataframe\">\n",
       "  <thead>\n",
       "    <tr style=\"text-align: right;\">\n",
       "      <th></th>\n",
       "      <th>userId</th>\n",
       "      <th>productId</th>\n",
       "      <th>rating</th>\n",
       "      <th>Label</th>\n",
       "    </tr>\n",
       "  </thead>\n",
       "  <tbody>\n",
       "    <tr>\n",
       "      <th>1737311</th>\n",
       "      <td>ARI50QA69794B</td>\n",
       "      <td>B0015YWV1G</td>\n",
       "      <td>5.0</td>\n",
       "      <td>Good</td>\n",
       "    </tr>\n",
       "    <tr>\n",
       "      <th>841225</th>\n",
       "      <td>A2FWVC35ASXQE4</td>\n",
       "      <td>B000E95FNY</td>\n",
       "      <td>5.0</td>\n",
       "      <td>Good</td>\n",
       "    </tr>\n",
       "    <tr>\n",
       "      <th>7321064</th>\n",
       "      <td>A5X444UZBWXW2</td>\n",
       "      <td>B00CUOAWN4</td>\n",
       "      <td>2.0</td>\n",
       "      <td>Bad</td>\n",
       "    </tr>\n",
       "    <tr>\n",
       "      <th>6249497</th>\n",
       "      <td>AYEU47H4KVG0H</td>\n",
       "      <td>B008I9CFKS</td>\n",
       "      <td>5.0</td>\n",
       "      <td>Good</td>\n",
       "    </tr>\n",
       "    <tr>\n",
       "      <th>7687051</th>\n",
       "      <td>AXCI20F43SEYO</td>\n",
       "      <td>B00G9X5N2W</td>\n",
       "      <td>5.0</td>\n",
       "      <td>Good</td>\n",
       "    </tr>\n",
       "    <tr>\n",
       "      <th>...</th>\n",
       "      <td>...</td>\n",
       "      <td>...</td>\n",
       "      <td>...</td>\n",
       "      <td>...</td>\n",
       "    </tr>\n",
       "    <tr>\n",
       "      <th>3678111</th>\n",
       "      <td>ASELQGI3L9JFK</td>\n",
       "      <td>B003Y60DZO</td>\n",
       "      <td>5.0</td>\n",
       "      <td>Good</td>\n",
       "    </tr>\n",
       "    <tr>\n",
       "      <th>3989996</th>\n",
       "      <td>A376OJHLE6SU9Q</td>\n",
       "      <td>B004AM6SQO</td>\n",
       "      <td>5.0</td>\n",
       "      <td>Good</td>\n",
       "    </tr>\n",
       "    <tr>\n",
       "      <th>4447053</th>\n",
       "      <td>A29KZZ4FADQBQY</td>\n",
       "      <td>B004SY9OVA</td>\n",
       "      <td>5.0</td>\n",
       "      <td>Good</td>\n",
       "    </tr>\n",
       "    <tr>\n",
       "      <th>6724883</th>\n",
       "      <td>A29BKMC9Y87P3F</td>\n",
       "      <td>B009T3ACGG</td>\n",
       "      <td>2.0</td>\n",
       "      <td>Bad</td>\n",
       "    </tr>\n",
       "    <tr>\n",
       "      <th>5167072</th>\n",
       "      <td>AB1I55S9H4WYL</td>\n",
       "      <td>B005S0BYQ6</td>\n",
       "      <td>4.0</td>\n",
       "      <td>Good</td>\n",
       "    </tr>\n",
       "  </tbody>\n",
       "</table>\n",
       "<p>1899574 rows × 4 columns</p>\n",
       "</div>"
      ],
      "text/plain": [
       "                 userId   productId  rating Label\n",
       "1737311   ARI50QA69794B  B0015YWV1G     5.0  Good\n",
       "841225   A2FWVC35ASXQE4  B000E95FNY     5.0  Good\n",
       "7321064   A5X444UZBWXW2  B00CUOAWN4     2.0   Bad\n",
       "6249497   AYEU47H4KVG0H  B008I9CFKS     5.0  Good\n",
       "7687051   AXCI20F43SEYO  B00G9X5N2W     5.0  Good\n",
       "...                 ...         ...     ...   ...\n",
       "3678111   ASELQGI3L9JFK  B003Y60DZO     5.0  Good\n",
       "3989996  A376OJHLE6SU9Q  B004AM6SQO     5.0  Good\n",
       "4447053  A29KZZ4FADQBQY  B004SY9OVA     5.0  Good\n",
       "6724883  A29BKMC9Y87P3F  B009T3ACGG     2.0   Bad\n",
       "5167072   AB1I55S9H4WYL  B005S0BYQ6     4.0  Good\n",
       "\n",
       "[1899574 rows x 4 columns]"
      ]
     },
     "execution_count": 41,
     "metadata": {},
     "output_type": "execute_result"
    }
   ],
   "source": [
    "df_filtered_test"
   ]
  },
  {
   "cell_type": "code",
   "execution_count": 42,
   "metadata": {},
   "outputs": [
    {
     "name": "stdout",
     "output_type": "stream",
     "text": [
      "              precision    recall  f1-score   support\n",
      "\n",
      "         Bad       0.50      0.07      0.12    278972\n",
      "        Good       0.86      0.99      0.92   1620602\n",
      "\n",
      "    accuracy                           0.85   1899574\n",
      "   macro avg       0.68      0.53      0.52   1899574\n",
      "weighted avg       0.81      0.85      0.80   1899574\n",
      "\n"
     ]
    }
   ],
   "source": [
    "df_filtered_test['Pred'] = df_filtered_test.apply(lambda x: predict_rating_label(svd,x['userId'],x['productId']),axis=1 )\n",
    "print(classification_report(df_filtered_test['Label'], df_filtered_test['Pred']))"
   ]
  },
  {
   "cell_type": "markdown",
   "metadata": {},
   "source": [
    "#### We see that the model performs well considering that we didnt perform any hyperparameter tuning, which now will apply"
   ]
  },
  {
   "cell_type": "markdown",
   "metadata": {},
   "source": [
    "the operation below is a bit costly so I ran the cell once and saved the best_params in a variable "
   ]
  },
  {
   "cell_type": "code",
   "execution_count": 43,
   "metadata": {},
   "outputs": [],
   "source": [
    "# param_grid = {\n",
    "#     'n_factors': [50, 100, 150],\n",
    "#     'n_epochs': [10, 20, 30],\n",
    "#     'lr_all': [0.005, 0.01, 0.02],\n",
    "#     'reg_all': [0.02, 0.1, 0.2]\n",
    "# }\n",
    "\n",
    "# # Perform grid search\n",
    "# grid_search = GridSearchCV(SVD, param_grid, measures=['rmse'], cv=3,n_jobs=-1)\n",
    "# grid_search.fit(data)\n",
    "\n",
    "# # Get the best parameters\n",
    "# best_params = grid_search.best_params['rmse']\n"
   ]
  },
  {
   "cell_type": "code",
   "execution_count": 44,
   "metadata": {},
   "outputs": [],
   "source": [
    "best_params = {'n_factors': 50, 'n_epochs': 20, 'lr_all': 0.01, 'reg_all': 0.2}"
   ]
  },
  {
   "cell_type": "code",
   "execution_count": 45,
   "metadata": {},
   "outputs": [
    {
     "data": {
      "text/plain": [
       "<surprise.prediction_algorithms.matrix_factorization.SVD at 0x1ed7fb1ce10>"
      ]
     },
     "execution_count": 45,
     "metadata": {},
     "output_type": "execute_result"
    }
   ],
   "source": [
    "# Train the final model with the best parameters on the entire dataset\n",
    "svd_tuned = SVD(**best_params)\n",
    "svd_tuned.fit(trainset.build_full_trainset())"
   ]
  },
  {
   "cell_type": "code",
   "execution_count": 46,
   "metadata": {},
   "outputs": [
    {
     "name": "stdout",
     "output_type": "stream",
     "text": [
      "              precision    recall  f1-score   support\n",
      "\n",
      "         Bad       0.54      0.09      0.15    278972\n",
      "        Good       0.86      0.99      0.92   1620602\n",
      "\n",
      "    accuracy                           0.86   1899574\n",
      "   macro avg       0.70      0.54      0.53   1899574\n",
      "weighted avg       0.82      0.86      0.81   1899574\n",
      "\n"
     ]
    }
   ],
   "source": [
    "df_filtered_test['Pred_tuned'] = df_filtered_test.apply(lambda x: predict_rating_label(svd_tuned,x['userId'],x['productId']),axis=1 )\n",
    "print(classification_report(df_filtered_test['Label'], df_filtered_test['Pred_tuned']))"
   ]
  },
  {
   "cell_type": "markdown",
   "metadata": {},
   "source": [
    "the tuned model performs slightly better than the un-tuned model :) "
   ]
  },
  {
   "cell_type": "markdown",
   "metadata": {},
   "source": [
    "## to save the model run the cell below "
   ]
  },
  {
   "cell_type": "code",
   "execution_count": 47,
   "metadata": {},
   "outputs": [
    {
     "name": "stdout",
     "output_type": "stream",
     "text": [
      "Predictions are the same\n"
     ]
    }
   ],
   "source": [
    "# Compute predictions of the 'original' algorithm.\n",
    "predictions = svd_tuned.test(data.build_full_trainset().build_testset())\n",
    "\n",
    "# Dump algorithm and reload it.\n",
    "file_name = \"dump_file\"\n",
    "dump.dump(file_name, algo=svd_tuned)\n",
    "_, loaded_algo = dump.load(file_name)\n",
    "\n",
    "# We now ensure that the algo is still the same by checking the predictions.\n",
    "predictions_loaded_algo = loaded_algo.test(data.build_full_trainset().build_testset())\n",
    "assert predictions == predictions_loaded_algo\n",
    "print(\"Predictions are the same\")"
   ]
  },
  {
   "cell_type": "markdown",
   "metadata": {},
   "source": [
    "### Now lets make recommendations using this model, I'm choosing the user 'A44NKM7QY2BC1' as an example"
   ]
  },
  {
   "cell_type": "code",
   "execution_count": 48,
   "metadata": {},
   "outputs": [
    {
     "data": {
      "text/html": [
       "<div>\n",
       "<style scoped>\n",
       "    .dataframe tbody tr th:only-of-type {\n",
       "        vertical-align: middle;\n",
       "    }\n",
       "\n",
       "    .dataframe tbody tr th {\n",
       "        vertical-align: top;\n",
       "    }\n",
       "\n",
       "    .dataframe thead th {\n",
       "        text-align: right;\n",
       "    }\n",
       "</style>\n",
       "<table border=\"1\" class=\"dataframe\">\n",
       "  <thead>\n",
       "    <tr style=\"text-align: right;\">\n",
       "      <th></th>\n",
       "      <th>userId</th>\n",
       "      <th>productId</th>\n",
       "      <th>rating</th>\n",
       "    </tr>\n",
       "  </thead>\n",
       "  <tbody>\n",
       "    <tr>\n",
       "      <th>174311</th>\n",
       "      <td>A44NKM7QY2BC1</td>\n",
       "      <td>B00006B9CR</td>\n",
       "      <td>1.0</td>\n",
       "    </tr>\n",
       "    <tr>\n",
       "      <th>3089708</th>\n",
       "      <td>A44NKM7QY2BC1</td>\n",
       "      <td>B0036ECGS6</td>\n",
       "      <td>4.0</td>\n",
       "    </tr>\n",
       "  </tbody>\n",
       "</table>\n",
       "</div>"
      ],
      "text/plain": [
       "                userId   productId  rating\n",
       "174311   A44NKM7QY2BC1  B00006B9CR     1.0\n",
       "3089708  A44NKM7QY2BC1  B0036ECGS6     4.0"
      ]
     },
     "execution_count": 48,
     "metadata": {},
     "output_type": "execute_result"
    }
   ],
   "source": [
    "df[df['userId']=='A44NKM7QY2BC1']"
   ]
  },
  {
   "cell_type": "code",
   "execution_count": 49,
   "metadata": {},
   "outputs": [],
   "source": [
    "\n",
    "def generate_recommendation(model, user_id, df, top_n,threshold=3):\n",
    "    \"\"\"\n",
    "    Generate recommendations for a user using a collaborative filtering model.\n",
    "\n",
    "    Parameters:\n",
    "    - model (obj): The collaborative filtering model trained using Surprise.\n",
    "    - user_id (int): The user for whom recommendations are generated.\n",
    "    - df (DataFrame): The input DataFrame containing user-item interactions.\n",
    "    - top_n (int): The number of top recommendations to return.\n",
    "\n",
    "    Returns:\n",
    "    - DataFrame: A DataFrame containing the top recommendations for the user.\n",
    "    \"\"\"\n",
    "\n",
    "    # Get unique product ids in the dataset\n",
    "    product_ids = df[\"productId\"].unique()\n",
    "\n",
    "    # Get product ids already interacted by the user\n",
    "    product_ids_user = df.loc[df[\"userId\"] == user_id, \"productId\"]\n",
    "\n",
    "    # Find product ids not interacted by the user\n",
    "    product_ids_to_pred = np.setdiff1d(product_ids, product_ids_user)\n",
    "\n",
    "    # Create a test set for predictions\n",
    "    test_set = [[user_id, product_id, None] for product_id in product_ids_to_pred]\n",
    "\n",
    "    # Make predictions using the collaborative filtering model\n",
    "    predictions = model.test(test_set)\n",
    "\n",
    "    # Extract item ids and estimated ratings from predictions\n",
    "    predictions = np.array([(pred.iid, pred.est) for pred in predictions])\n",
    "\n",
    "    # Create a DataFrame from predictions\n",
    "    predictions_df = pd.DataFrame(predictions, columns=['iid', 'est'])\n",
    "\n",
    "    # Sort predictions by estimated ratings in descending order and select top N\n",
    "    predictions_df = predictions_df.sort_values('est', ascending=False)[:top_n]\n",
    "\n",
    "    # Add user_id column to the DataFrame\n",
    "    predictions_df['uid'] = user_id\n",
    "    predictions_df['est'] = predictions_df['est'].astype(float)\n",
    "\n",
    "    predictions_df.loc[predictions_df['est'] >= threshold, 'Label'] = 'Good'\n",
    "    predictions_df.loc[predictions_df['est'] < threshold, 'Label'] = 'Bad'\n",
    "\n",
    "    return predictions_df[predictions_df['Label']=='Good']"
   ]
  },
  {
   "cell_type": "code",
   "execution_count": 50,
   "metadata": {},
   "outputs": [
    {
     "data": {
      "text/html": [
       "<div>\n",
       "<style scoped>\n",
       "    .dataframe tbody tr th:only-of-type {\n",
       "        vertical-align: middle;\n",
       "    }\n",
       "\n",
       "    .dataframe tbody tr th {\n",
       "        vertical-align: top;\n",
       "    }\n",
       "\n",
       "    .dataframe thead th {\n",
       "        text-align: right;\n",
       "    }\n",
       "</style>\n",
       "<table border=\"1\" class=\"dataframe\">\n",
       "  <thead>\n",
       "    <tr style=\"text-align: right;\">\n",
       "      <th></th>\n",
       "      <th>iid</th>\n",
       "      <th>est</th>\n",
       "      <th>uid</th>\n",
       "      <th>Label</th>\n",
       "    </tr>\n",
       "  </thead>\n",
       "  <tbody>\n",
       "    <tr>\n",
       "      <th>74145</th>\n",
       "      <td>B000P22S2Q</td>\n",
       "      <td>4.397901</td>\n",
       "      <td>A44NKM7QY2BC1</td>\n",
       "      <td>Good</td>\n",
       "    </tr>\n",
       "    <tr>\n",
       "      <th>197920</th>\n",
       "      <td>B003WSUZH0</td>\n",
       "      <td>4.365942</td>\n",
       "      <td>A44NKM7QY2BC1</td>\n",
       "      <td>Good</td>\n",
       "    </tr>\n",
       "    <tr>\n",
       "      <th>147256</th>\n",
       "      <td>B002LGYIHW</td>\n",
       "      <td>4.363211</td>\n",
       "      <td>A44NKM7QY2BC1</td>\n",
       "      <td>Good</td>\n",
       "    </tr>\n",
       "    <tr>\n",
       "      <th>44462</th>\n",
       "      <td>B000B4WL1G</td>\n",
       "      <td>4.356051</td>\n",
       "      <td>A44NKM7QY2BC1</td>\n",
       "      <td>Good</td>\n",
       "    </tr>\n",
       "    <tr>\n",
       "      <th>69609</th>\n",
       "      <td>B000MVEC10</td>\n",
       "      <td>4.339008</td>\n",
       "      <td>A44NKM7QY2BC1</td>\n",
       "      <td>Good</td>\n",
       "    </tr>\n",
       "    <tr>\n",
       "      <th>60405</th>\n",
       "      <td>B000HW5WRW</td>\n",
       "      <td>4.338653</td>\n",
       "      <td>A44NKM7QY2BC1</td>\n",
       "      <td>Good</td>\n",
       "    </tr>\n",
       "    <tr>\n",
       "      <th>346848</th>\n",
       "      <td>B008JGWY2Y</td>\n",
       "      <td>4.333858</td>\n",
       "      <td>A44NKM7QY2BC1</td>\n",
       "      <td>Good</td>\n",
       "    </tr>\n",
       "    <tr>\n",
       "      <th>108143</th>\n",
       "      <td>B001CY652K</td>\n",
       "      <td>4.320550</td>\n",
       "      <td>A44NKM7QY2BC1</td>\n",
       "      <td>Good</td>\n",
       "    </tr>\n",
       "    <tr>\n",
       "      <th>367114</th>\n",
       "      <td>B009I2BRUS</td>\n",
       "      <td>4.319895</td>\n",
       "      <td>A44NKM7QY2BC1</td>\n",
       "      <td>Good</td>\n",
       "    </tr>\n",
       "    <tr>\n",
       "      <th>450633</th>\n",
       "      <td>B00G3MP39M</td>\n",
       "      <td>4.318946</td>\n",
       "      <td>A44NKM7QY2BC1</td>\n",
       "      <td>Good</td>\n",
       "    </tr>\n",
       "  </tbody>\n",
       "</table>\n",
       "</div>"
      ],
      "text/plain": [
       "               iid       est            uid Label\n",
       "74145   B000P22S2Q  4.397901  A44NKM7QY2BC1  Good\n",
       "197920  B003WSUZH0  4.365942  A44NKM7QY2BC1  Good\n",
       "147256  B002LGYIHW  4.363211  A44NKM7QY2BC1  Good\n",
       "44462   B000B4WL1G  4.356051  A44NKM7QY2BC1  Good\n",
       "69609   B000MVEC10  4.339008  A44NKM7QY2BC1  Good\n",
       "60405   B000HW5WRW  4.338653  A44NKM7QY2BC1  Good\n",
       "346848  B008JGWY2Y  4.333858  A44NKM7QY2BC1  Good\n",
       "108143  B001CY652K  4.320550  A44NKM7QY2BC1  Good\n",
       "367114  B009I2BRUS  4.319895  A44NKM7QY2BC1  Good\n",
       "450633  B00G3MP39M  4.318946  A44NKM7QY2BC1  Good"
      ]
     },
     "execution_count": 50,
     "metadata": {},
     "output_type": "execute_result"
    }
   ],
   "source": [
    "# define which user ID that we want to give recommendation\n",
    "userID = 'A44NKM7QY2BC1'\n",
    "# generate recommendation using the model that we have trained, and return the good products to be recommended \n",
    "user_recommendations = generate_recommendation(svd_tuned,userID,df,top_n=50,threshold = threshold)\n",
    "\n",
    "user_recommendations.head(10)"
   ]
  }
 ],
 "metadata": {
  "kernelspec": {
   "display_name": "BasicML",
   "language": "python",
   "name": "python3"
  },
  "language_info": {
   "codemirror_mode": {
    "name": "ipython",
    "version": 3
   },
   "file_extension": ".py",
   "mimetype": "text/x-python",
   "name": "python",
   "nbconvert_exporter": "python",
   "pygments_lexer": "ipython3",
   "version": "3.11.4"
  },
  "orig_nbformat": 4
 },
 "nbformat": 4,
 "nbformat_minor": 2
}
